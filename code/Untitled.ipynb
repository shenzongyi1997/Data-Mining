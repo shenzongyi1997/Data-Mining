{
 "cells": [
  {
   "cell_type": "code",
   "execution_count": 1,
   "metadata": {
    "collapsed": true
   },
   "outputs": [],
   "source": [
    "import matplotlib.pyplot as plt\n",
    "import seaborn as sb"
   ]
  },
  {
   "cell_type": "code",
   "execution_count": 3,
   "metadata": {},
   "outputs": [
    {
     "name": "stdout",
     "output_type": "stream",
     "text": [
      "E2+E7+E12+E17+E22+E27+E32+E37+E42+E47+E52+E57+E62+E67+E72+E77+E82+E87+\n"
     ]
    }
   ],
   "source": [
    "s = \"\"\n",
    "for i in range(18):\n",
    "    s = s + \"E\" + str(i*5 + 2) + \"+\"\n",
    "print(s)"
   ]
  },
  {
   "cell_type": "code",
   "execution_count": 8,
   "metadata": {},
   "outputs": [
    {
     "data": {
      "image/png": "[encoded data removed]",
      "text/plain": [
       "<Figure size 432x288 with 1 Axes>"
      ]
     },
     "metadata": {},
     "output_type": "display_data"
    }
   ],
   "source": [
    "model_scores = [78.04277778,77.97777778,83.87666667,87.30388889,84.65166667,62.01]\n",
    "model_names = ['KNN', 'LR', 'DT', 'RF', 'GBM',\"GaussianNB\"]\n",
    "plt.bar(model_names,model_scores)\n",
    "plt.title(\"average scores of models\")\n",
    "plt.show()"
   ]
  },
  {
   "cell_type": "code",
   "execution_count": 10,
   "metadata": {},
   "outputs": [
    {
     "name": "stdout",
     "output_type": "stream",
     "text": [
      "=SUM(E2:E16)\n",
      "=SUM(E16:E30)\n",
      "=SUM(E30:E44)\n",
      "=SUM(E44:E58)\n",
      "=SUM(E58:E72)\n",
      "=SUM(E72:E86)\n"
     ]
    }
   ],
   "source": [
    "s = []\n",
    "for i in range(6):\n",
    "    t_s = \"=SUM(E\" + str(14*i+2) + \":E\" + str(14*i + 16) + \")\"\n",
    "    print(t_s)"
   ]
  },
  {
   "cell_type": "code",
   "execution_count": 12,
   "metadata": {},
   "outputs": [
    {
     "data": {
      "image/png": "[encoded data removed]",
      "text/plain": [
       "<Figure size 720x360 with 1 Axes>"
      ]
     },
     "metadata": {},
     "output_type": "display_data"
    }
   ],
   "source": [
    "scores = [83.90533333,78.62066667,78.76066667,84.34866667,84.37333333,84.38,84.39466667]\n",
    "encoders = ['one hot','hash8','hash16','target','smooth_target','leaveoneout','james_steins']\n",
    "plt.figure(figsize=(10,5))\n",
    "plt.bar(encoders,scores)\n",
    "plt.title(\"average scores of encoders\")\n",
    "plt.show()"
   ]
  },
  {
   "cell_type": "code",
   "execution_count": null,
   "metadata": {
    "collapsed": true
   },
   "outputs": [],
   "source": []
  }
 ],
 "metadata": {
  "kernelspec": {
   "display_name": "Python 3",
   "language": "python",
   "name": "python3"
  },
  "language_info": {
   "codemirror_mode": {
    "name": "ipython",
    "version": 3
   },
   "file_extension": ".py",
   "mimetype": "text/x-python",
   "name": "python",
   "nbconvert_exporter": "python",
   "pygments_lexer": "ipython3",
   "version": "3.5.4"
  }
 },
 "nbformat": 4,
 "nbformat_minor": 2
}
